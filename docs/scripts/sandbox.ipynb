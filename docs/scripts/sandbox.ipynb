{
 "cells": [
  {
   "cell_type": "code",
   "execution_count": 3,
   "id": "ff5626c8",
   "metadata": {},
   "outputs": [],
   "source": [
    "import sys\n",
    "\n",
    "sys.path.append(\"../../\")"
   ]
  },
  {
   "cell_type": "code",
   "execution_count": 4,
   "id": "claude-sonnet",
   "metadata": {},
   "outputs": [
    {
     "name": "stdout",
     "output_type": "stream",
     "text": [
      "Claude 3 Sonnet text response: Life's meaning is what you choose to make of it through your actions, relationships, and personal growth.\n",
      "Claude 3 Sonnet streaming response:\n",
      "Quantum computing harnesses quantum mechanics to perform certain computations exponentially faster than classical computers.\n"
     ]
    }
   ],
   "source": [
    "import os\n",
    "from typing import Any, AsyncGenerator, Union\n",
    "from langchain_aws import ChatBedrock\n",
    "from app.chatbot import BaseChatbot\n",
    "\n",
    "\n",
    "class ClaudeSonnetChatbot(BaseChatbot):\n",
    "    def __init__(self, temperature: float = 0):\n",
    "        self.llm = ChatBedrock(\n",
    "            model=\"us.anthropic.claude-3-5-sonnet-20240620-v1:0\",\n",
    "            model_kwargs={\"temperature\": temperature},\n",
    "            credentials_profile_name=os.getenv(\"AWS_PROFILE\"),\n",
    "            region=os.getenv(\"AWS_REGION\", \"us-east-1\"),\n",
    "        )\n",
    "\n",
    "    def get_text_response(self, prompt: str) -> str:\n",
    "        response = self.llm.invoke(prompt)\n",
    "        return response.text()\n",
    "\n",
    "    async def get_text_response_async(self, prompt: str) -> Union[str, list[Union[str, dict[Any, Any]]]]:\n",
    "        response = await self.llm.ainvoke(prompt)\n",
    "        return response.content\n",
    "\n",
    "    async def stream_response(self, prompt: str) -> AsyncGenerator[Union[str, list[Union[str, dict[Any, Any]]]], None]:\n",
    "        async for chunk in self.llm.astream(prompt):\n",
    "            yield chunk.content\n",
    "\n",
    "\n",
    "# Test Claude 3 Sonnet (supports on-demand throughput)\n",
    "claude = ClaudeSonnetChatbot(temperature=0.7)\n",
    "text_response = claude.get_text_response(\"Explain meaning of life in a single line.\")\n",
    "print(\"Claude 3 Sonnet text response:\", text_response)\n",
    "\n",
    "print(\"Claude 3 Sonnet streaming response:\")\n",
    "async for chunk in claude.stream_response(\"Explain quantum computing in one line\"):\n",
    "    print(chunk, end=\"\")\n",
    "print()"
   ]
  },
  {
   "cell_type": "code",
   "execution_count": null,
   "id": "01d16d4f",
   "metadata": {},
   "outputs": [
    {
     "ename": "InvalidRequestError",
     "evalue": "Attribute name 'metadata' is reserved when using the Declarative API.",
     "output_type": "error",
     "traceback": [
      "\u001b[31m---------------------------------------------------------------------------\u001b[39m",
      "\u001b[31mInvalidRequestError\u001b[39m                       Traceback (most recent call last)",
      "\u001b[36mCell\u001b[39m\u001b[36m \u001b[39m\u001b[32mIn[5]\u001b[39m\u001b[32m, line 1\u001b[39m\n\u001b[32m----> \u001b[39m\u001b[32m1\u001b[39m \u001b[38;5;28;01mfrom\u001b[39;00m\u001b[38;5;250m \u001b[39m\u001b[34;01mapp\u001b[39;00m\u001b[34;01m.\u001b[39;00m\u001b[34;01mcommon\u001b[39;00m\u001b[34;01m.\u001b[39;00m\u001b[34;01mvector_embedders\u001b[39;00m\u001b[38;5;250m \u001b[39m\u001b[38;5;28;01mimport\u001b[39;00m LangChainTitanEmbedder\n\u001b[32m      3\u001b[39m embedder = LangChainTitanEmbedder()\n\u001b[32m      4\u001b[39m result = embedder.embed_single_text(\u001b[33m\"\u001b[39m\u001b[33mThis is great\u001b[39m\u001b[33m\"\u001b[39m)\n",
      "\u001b[36mFile \u001b[39m\u001b[32m~/src/code/projects/innomightlabs/innomightlabs-api/docs/scripts/../../app/common/__init__.py:2\u001b[39m\n\u001b[32m      1\u001b[39m \u001b[38;5;28;01mfrom\u001b[39;00m\u001b[38;5;250m \u001b[39m\u001b[34;01mapp\u001b[39;00m\u001b[34;01m.\u001b[39;00m\u001b[34;01mcommon\u001b[39;00m\u001b[34;01m.\u001b[39;00m\u001b[34;01mcontroller\u001b[39;00m\u001b[38;5;250m \u001b[39m\u001b[38;5;28;01mimport\u001b[39;00m BaseController\n\u001b[32m----> \u001b[39m\u001b[32m2\u001b[39m \u001b[38;5;28;01mfrom\u001b[39;00m\u001b[38;5;250m \u001b[39m\u001b[34;01mapp\u001b[39;00m\u001b[34;01m.\u001b[39;00m\u001b[34;01mconversation\u001b[39;00m\u001b[34;01m.\u001b[39;00m\u001b[34;01mmessages\u001b[39;00m\u001b[34;01m.\u001b[39;00m\u001b[34;01mmessage_controller\u001b[39;00m\u001b[38;5;250m \u001b[39m\u001b[38;5;28;01mimport\u001b[39;00m MessageController\n\u001b[32m      5\u001b[39m \u001b[38;5;28;01mdef\u001b[39;00m\u001b[38;5;250m \u001b[39m\u001b[34mget_controllers\u001b[39m() -> \u001b[38;5;28mlist\u001b[39m[\u001b[38;5;28mtype\u001b[39m[BaseController]]:\n\u001b[32m      6\u001b[39m     \u001b[38;5;28;01mfrom\u001b[39;00m\u001b[38;5;250m \u001b[39m\u001b[34;01mapp\u001b[39;00m\u001b[34;01m.\u001b[39;00m\u001b[34;01mconversation\u001b[39;00m\u001b[34;01m.\u001b[39;00m\u001b[34;01mconversation_controller\u001b[39;00m\u001b[38;5;250m \u001b[39m\u001b[38;5;28;01mimport\u001b[39;00m ConversationController\n",
      "\u001b[36mFile \u001b[39m\u001b[32m~/src/code/projects/innomightlabs/innomightlabs-api/docs/scripts/../../app/conversation/messages/message_controller.py:8\u001b[39m\n\u001b[32m      6\u001b[39m \u001b[38;5;28;01mfrom\u001b[39;00m\u001b[38;5;250m \u001b[39m\u001b[34;01mapp\u001b[39;00m\u001b[34;01m.\u001b[39;00m\u001b[34;01mchatbot\u001b[39;00m\u001b[34;01m.\u001b[39;00m\u001b[34;01mchatbot_models\u001b[39;00m\u001b[38;5;250m \u001b[39m\u001b[38;5;28;01mimport\u001b[39;00m AgentMessage, AgentRequest, AgentStreamResponse, StreamStep\n\u001b[32m      7\u001b[39m \u001b[38;5;28;01mfrom\u001b[39;00m\u001b[38;5;250m \u001b[39m\u001b[34;01mapp\u001b[39;00m\u001b[34;01m.\u001b[39;00m\u001b[34;01mchatbot\u001b[39;00m\u001b[34;01m.\u001b[39;00m\u001b[34;01mchatbot_services\u001b[39;00m\u001b[38;5;250m \u001b[39m\u001b[38;5;28;01mimport\u001b[39;00m ChatbotService\n\u001b[32m----> \u001b[39m\u001b[32m8\u001b[39m \u001b[38;5;28;01mfrom\u001b[39;00m\u001b[38;5;250m \u001b[39m\u001b[34;01mapp\u001b[39;00m\u001b[34;01m.\u001b[39;00m\u001b[34;01mcommon\u001b[39;00m\u001b[34;01m.\u001b[39;00m\u001b[34;01mconfig\u001b[39;00m\u001b[38;5;250m \u001b[39m\u001b[38;5;28;01mimport\u001b[39;00m ServiceFactory\n\u001b[32m      9\u001b[39m \u001b[38;5;28;01mfrom\u001b[39;00m\u001b[38;5;250m \u001b[39m\u001b[34;01mapp\u001b[39;00m\u001b[34;01m.\u001b[39;00m\u001b[34;01mcommon\u001b[39;00m\u001b[34;01m.\u001b[39;00m\u001b[34;01mcontroller\u001b[39;00m\u001b[38;5;250m \u001b[39m\u001b[38;5;28;01mimport\u001b[39;00m BaseController\n\u001b[32m     10\u001b[39m \u001b[38;5;28;01mfrom\u001b[39;00m\u001b[38;5;250m \u001b[39m\u001b[34;01mapp\u001b[39;00m\u001b[34;01m.\u001b[39;00m\u001b[34;01mcommon\u001b[39;00m\u001b[34;01m.\u001b[39;00m\u001b[34;01mmodels\u001b[39;00m\u001b[38;5;250m \u001b[39m\u001b[38;5;28;01mimport\u001b[39;00m RequestHeaders, Role\n",
      "\u001b[36mFile \u001b[39m\u001b[32m~/src/code/projects/innomightlabs/innomightlabs-api/docs/scripts/../../app/common/config.py:8\u001b[39m\n\u001b[32m      6\u001b[39m \u001b[38;5;28;01mfrom\u001b[39;00m\u001b[38;5;250m \u001b[39m\u001b[34;01mapp\u001b[39;00m\u001b[34;01m.\u001b[39;00m\u001b[34;01mchatbot\u001b[39;00m\u001b[34;01m.\u001b[39;00m\u001b[34;01mchatbot_models\u001b[39;00m\u001b[38;5;250m \u001b[39m\u001b[38;5;28;01mimport\u001b[39;00m AgentState\n\u001b[32m      7\u001b[39m \u001b[38;5;28;01mfrom\u001b[39;00m\u001b[38;5;250m \u001b[39m\u001b[34;01mapp\u001b[39;00m\u001b[34;01m.\u001b[39;00m\u001b[34;01mchatbot\u001b[39;00m\u001b[34;01m.\u001b[39;00m\u001b[34;01mchatbot_services\u001b[39;00m\u001b[38;5;250m \u001b[39m\u001b[38;5;28;01mimport\u001b[39;00m ChatbotService\n\u001b[32m----> \u001b[39m\u001b[32m8\u001b[39m \u001b[38;5;28;01mfrom\u001b[39;00m\u001b[38;5;250m \u001b[39m\u001b[34;01mapp\u001b[39;00m\u001b[34;01m.\u001b[39;00m\u001b[34;01mchatbot\u001b[39;00m\u001b[34;01m.\u001b[39;00m\u001b[34;01mworkflows\u001b[39;00m\u001b[34;01m.\u001b[39;00m\u001b[34;01mkrishna_advance\u001b[39;00m\u001b[38;5;250m \u001b[39m\u001b[38;5;28;01mimport\u001b[39;00m KrishnaAdvanceWorkflow\n\u001b[32m      9\u001b[39m \u001b[38;5;28;01mfrom\u001b[39;00m\u001b[38;5;250m \u001b[39m\u001b[34;01mapp\u001b[39;00m\u001b[34;01m.\u001b[39;00m\u001b[34;01mchatbot\u001b[39;00m\u001b[34;01m.\u001b[39;00m\u001b[34;01mworkflows\u001b[39;00m\u001b[34;01m.\u001b[39;00m\u001b[34;01mkrishna_mini\u001b[39;00m\u001b[38;5;250m \u001b[39m\u001b[38;5;28;01mimport\u001b[39;00m KrishnaMiniWorkflow\n\u001b[32m     10\u001b[39m \u001b[38;5;28;01mfrom\u001b[39;00m\u001b[38;5;250m \u001b[39m\u001b[34;01mapp\u001b[39;00m\u001b[34;01m.\u001b[39;00m\u001b[34;01mchatbot\u001b[39;00m\u001b[34;01m.\u001b[39;00m\u001b[34;01mworkflows\u001b[39;00m\u001b[34;01m.\u001b[39;00m\u001b[34;01mmemories\u001b[39;00m\u001b[34;01m.\u001b[39;00m\u001b[34;01mmemory_manager\u001b[39;00m\u001b[38;5;250m \u001b[39m\u001b[38;5;28;01mimport\u001b[39;00m MemoryManager\n",
      "\u001b[36mFile \u001b[39m\u001b[32m~/src/code/projects/innomightlabs/innomightlabs-api/docs/scripts/../../app/chatbot/workflows/__init__.py:3\u001b[39m\n\u001b[32m      1\u001b[39m \u001b[38;5;66;03m# Import workflow implementations to trigger registration\u001b[39;00m\n\u001b[32m      2\u001b[39m \u001b[38;5;28;01mfrom\u001b[39;00m\u001b[38;5;250m \u001b[39m\u001b[34;01m.\u001b[39;00m\u001b[34;01mkrishna_mini\u001b[39;00m\u001b[38;5;250m \u001b[39m\u001b[38;5;28;01mimport\u001b[39;00m KrishnaMiniWorkflow\n\u001b[32m----> \u001b[39m\u001b[32m3\u001b[39m \u001b[38;5;28;01mfrom\u001b[39;00m\u001b[38;5;250m \u001b[39m\u001b[34;01m.\u001b[39;00m\u001b[34;01mkrishna_advance\u001b[39;00m\u001b[38;5;250m \u001b[39m\u001b[38;5;28;01mimport\u001b[39;00m KrishnaAdvanceWorkflow\n\u001b[32m      5\u001b[39m __all__ = [\u001b[33m\"\u001b[39m\u001b[33mKrishnaMiniWorkflow\u001b[39m\u001b[33m\"\u001b[39m, \u001b[33m\"\u001b[39m\u001b[33mKrishnaAdvanceWorkflow\u001b[39m\u001b[33m\"\u001b[39m]\n",
      "\u001b[36mFile \u001b[39m\u001b[32m~/src/code/projects/innomightlabs/innomightlabs-api/docs/scripts/../../app/chatbot/workflows/krishna_advance.py:9\u001b[39m\n\u001b[32m      6\u001b[39m \u001b[38;5;28;01mfrom\u001b[39;00m\u001b[38;5;250m \u001b[39m\u001b[34;01mapp\u001b[39;00m\u001b[34;01m.\u001b[39;00m\u001b[34;01mchatbot\u001b[39;00m\u001b[34;01m.\u001b[39;00m\u001b[34;01mchatbot_models\u001b[39;00m\u001b[38;5;250m \u001b[39m\u001b[38;5;28;01mimport\u001b[39;00m AgentState, Phase, StreamChunk\n\u001b[32m      7\u001b[39m \u001b[38;5;28;01mfrom\u001b[39;00m\u001b[38;5;250m \u001b[39m\u001b[34;01mlanggraph\u001b[39;00m\u001b[34;01m.\u001b[39;00m\u001b[34;01mgraph\u001b[39;00m\u001b[38;5;250m \u001b[39m\u001b[38;5;28;01mimport\u001b[39;00m StateGraph, START, END\n\u001b[32m----> \u001b[39m\u001b[32m9\u001b[39m \u001b[38;5;28;01mfrom\u001b[39;00m\u001b[38;5;250m \u001b[39m\u001b[34;01mapp\u001b[39;00m\u001b[34;01m.\u001b[39;00m\u001b[34;01mchatbot\u001b[39;00m\u001b[34;01m.\u001b[39;00m\u001b[34;01mworkflows\u001b[39;00m\u001b[34;01m.\u001b[39;00m\u001b[34;01mhelpers\u001b[39;00m\u001b[34;01m.\u001b[39;00m\u001b[34;01mkrishna_advance_helpers\u001b[39;00m\u001b[38;5;250m \u001b[39m\u001b[38;5;28;01mimport\u001b[39;00m KrishnaAdvanceWorkflowHelper\n\u001b[32m     10\u001b[39m \u001b[38;5;28;01mfrom\u001b[39;00m\u001b[38;5;250m \u001b[39m\u001b[34;01mapp\u001b[39;00m\u001b[34;01m.\u001b[39;00m\u001b[34;01mcommon\u001b[39;00m\u001b[34;01m.\u001b[39;00m\u001b[34;01mworkflows\u001b[39;00m\u001b[38;5;250m \u001b[39m\u001b[38;5;28;01mimport\u001b[39;00m BaseAgentWorkflow\n\u001b[32m     13\u001b[39m \u001b[38;5;28;01mclass\u001b[39;00m\u001b[38;5;250m \u001b[39m\u001b[34;01mKrishnaAdvanceWorkflow\u001b[39;00m(BaseAgentWorkflow):\n",
      "\u001b[36mFile \u001b[39m\u001b[32m~/src/code/projects/innomightlabs/innomightlabs-api/docs/scripts/../../app/chatbot/workflows/helpers/krishna_advance_helpers.py:9\u001b[39m\n\u001b[32m      7\u001b[39m \u001b[38;5;28;01mfrom\u001b[39;00m\u001b[38;5;250m \u001b[39m\u001b[34;01mapp\u001b[39;00m\u001b[34;01m.\u001b[39;00m\u001b[34;01mchatbot\u001b[39;00m\u001b[38;5;250m \u001b[39m\u001b[38;5;28;01mimport\u001b[39;00m BaseChatbot\n\u001b[32m      8\u001b[39m \u001b[38;5;28;01mfrom\u001b[39;00m\u001b[38;5;250m \u001b[39m\u001b[34;01mapp\u001b[39;00m\u001b[34;01m.\u001b[39;00m\u001b[34;01mchatbot\u001b[39;00m\u001b[34;01m.\u001b[39;00m\u001b[34;01mchatbot_models\u001b[39;00m\u001b[38;5;250m \u001b[39m\u001b[38;5;28;01mimport\u001b[39;00m Action, ActionResult, AgentState, AgentThought, Phase, StreamChunk, StreamStep\n\u001b[32m----> \u001b[39m\u001b[32m9\u001b[39m \u001b[38;5;28;01mfrom\u001b[39;00m\u001b[38;5;250m \u001b[39m\u001b[34;01mapp\u001b[39;00m\u001b[34;01m.\u001b[39;00m\u001b[34;01mchatbot\u001b[39;00m\u001b[34;01m.\u001b[39;00m\u001b[34;01mworkflows\u001b[39;00m\u001b[34;01m.\u001b[39;00m\u001b[34;01mhelpers\u001b[39;00m\u001b[34;01m.\u001b[39;00m\u001b[34;01mtools\u001b[39;00m\u001b[38;5;250m \u001b[39m\u001b[38;5;28;01mimport\u001b[39;00m (\n\u001b[32m     10\u001b[39m     available_actions,\n\u001b[32m     11\u001b[39m     tools,\n\u001b[32m     12\u001b[39m )\n\u001b[32m     15\u001b[39m JSON_BLOCK_RE = re.compile(\u001b[33mr\u001b[39m\u001b[33m\"\u001b[39m\u001b[33m```json\u001b[39m\u001b[33m\\\u001b[39m\u001b[33ms*(.*?)\u001b[39m\u001b[33m\\\u001b[39m\u001b[33ms*```\u001b[39m\u001b[33m\"\u001b[39m, re.DOTALL | re.IGNORECASE)\n\u001b[32m     18\u001b[39m \u001b[38;5;28;01mdef\u001b[39;00m\u001b[38;5;250m \u001b[39m\u001b[34mextract_json_block\u001b[39m(text: \u001b[38;5;28mstr\u001b[39m) -> \u001b[38;5;28mstr\u001b[39m:\n",
      "\u001b[36mFile \u001b[39m\u001b[32m~/src/code/projects/innomightlabs/innomightlabs-api/docs/scripts/../../app/chatbot/workflows/helpers/tools.py:14\u001b[39m\n\u001b[32m     11\u001b[39m \u001b[38;5;28;01mimport\u001b[39;00m\u001b[38;5;250m \u001b[39m\u001b[34;01mwikipedia\u001b[39;00m\n\u001b[32m     13\u001b[39m \u001b[38;5;28;01mfrom\u001b[39;00m\u001b[38;5;250m \u001b[39m\u001b[34;01mapp\u001b[39;00m\u001b[34;01m.\u001b[39;00m\u001b[34;01mchatbot\u001b[39;00m\u001b[34;01m.\u001b[39;00m\u001b[34;01mchatbot_models\u001b[39;00m\u001b[38;5;250m \u001b[39m\u001b[38;5;28;01mimport\u001b[39;00m Action, ActionResult, AgentState, StreamChunk\n\u001b[32m---> \u001b[39m\u001b[32m14\u001b[39m \u001b[38;5;28;01mfrom\u001b[39;00m\u001b[38;5;250m \u001b[39m\u001b[34;01mapp\u001b[39;00m\u001b[34;01m.\u001b[39;00m\u001b[34;01mchatbot\u001b[39;00m\u001b[34;01m.\u001b[39;00m\u001b[34;01mworkflows\u001b[39;00m\u001b[34;01m.\u001b[39;00m\u001b[34;01mmemories\u001b[39;00m\u001b[34;01m.\u001b[39;00m\u001b[34;01mmemory_manager\u001b[39;00m\u001b[38;5;250m \u001b[39m\u001b[38;5;28;01mimport\u001b[39;00m MemoryManager\n\u001b[32m     15\u001b[39m \u001b[38;5;28;01mfrom\u001b[39;00m\u001b[38;5;250m \u001b[39m\u001b[34;01mapp\u001b[39;00m\u001b[34;01m.\u001b[39;00m\u001b[34;01mcommon\u001b[39;00m\u001b[34;01m.\u001b[39;00m\u001b[34;01mconfig\u001b[39;00m\u001b[38;5;250m \u001b[39m\u001b[38;5;28;01mimport\u001b[39;00m ChatbotFactory, RepositoryFactory\n\u001b[32m     16\u001b[39m \u001b[38;5;28;01mfrom\u001b[39;00m\u001b[38;5;250m \u001b[39m\u001b[34;01mapp\u001b[39;00m\u001b[34;01m.\u001b[39;00m\u001b[34;01mcommon\u001b[39;00m\u001b[34;01m.\u001b[39;00m\u001b[34;01mmodels\u001b[39;00m\u001b[38;5;250m \u001b[39m\u001b[38;5;28;01mimport\u001b[39;00m StreamStep\n",
      "\u001b[36mFile \u001b[39m\u001b[32m~/src/code/projects/innomightlabs/innomightlabs-api/docs/scripts/../../app/chatbot/workflows/memories/memory_manager.py:5\u001b[39m\n\u001b[32m      3\u001b[39m \u001b[38;5;28;01mfrom\u001b[39;00m\u001b[38;5;250m \u001b[39m\u001b[34;01msqlalchemy\u001b[39;00m\u001b[38;5;250m \u001b[39m\u001b[38;5;28;01mimport\u001b[39;00m select\n\u001b[32m      4\u001b[39m \u001b[38;5;28;01mfrom\u001b[39;00m\u001b[38;5;250m \u001b[39m\u001b[34;01mapp\u001b[39;00m\u001b[34;01m.\u001b[39;00m\u001b[34;01mchatbot\u001b[39;00m\u001b[34;01m.\u001b[39;00m\u001b[34;01mchatbot_models\u001b[39;00m\u001b[38;5;250m \u001b[39m\u001b[38;5;28;01mimport\u001b[39;00m MemoryEntry\n\u001b[32m----> \u001b[39m\u001b[32m5\u001b[39m \u001b[38;5;28;01mfrom\u001b[39;00m\u001b[38;5;250m \u001b[39m\u001b[34;01mapp\u001b[39;00m\u001b[34;01m.\u001b[39;00m\u001b[34;01mchatbot\u001b[39;00m\u001b[34;01m.\u001b[39;00m\u001b[34;01mworkflows\u001b[39;00m\u001b[34;01m.\u001b[39;00m\u001b[34;01mmemories\u001b[39;00m\u001b[34;01m.\u001b[39;00m\u001b[34;01mmemory_entities\u001b[39;00m\u001b[38;5;250m \u001b[39m\u001b[38;5;28;01mimport\u001b[39;00m MemoryEntryEntity\n\u001b[32m      6\u001b[39m \u001b[38;5;28;01mfrom\u001b[39;00m\u001b[38;5;250m \u001b[39m\u001b[34;01mapp\u001b[39;00m\u001b[34;01m.\u001b[39;00m\u001b[34;01mcommon\u001b[39;00m\u001b[34;01m.\u001b[39;00m\u001b[34;01mrepositories\u001b[39;00m\u001b[38;5;250m \u001b[39m\u001b[38;5;28;01mimport\u001b[39;00m BaseRepository\n\u001b[32m      9\u001b[39m \u001b[38;5;28;01mclass\u001b[39;00m\u001b[38;5;250m \u001b[39m\u001b[34;01mMemoryManager\u001b[39;00m(BaseRepository):\n",
      "\u001b[36mFile \u001b[39m\u001b[32m~/src/code/projects/innomightlabs/innomightlabs-api/docs/scripts/../../app/chatbot/workflows/memories/memory_entities.py:13\u001b[39m\n\u001b[32m      9\u001b[39m \u001b[38;5;28;01mfrom\u001b[39;00m\u001b[38;5;250m \u001b[39m\u001b[34;01mapp\u001b[39;00m\u001b[34;01m.\u001b[39;00m\u001b[34;01mchatbot\u001b[39;00m\u001b[34;01m.\u001b[39;00m\u001b[34;01mchatbot_models\u001b[39;00m\u001b[38;5;250m \u001b[39m\u001b[38;5;28;01mimport\u001b[39;00m MemoryEntry, MemoryType\n\u001b[32m     10\u001b[39m \u001b[38;5;28;01mfrom\u001b[39;00m\u001b[38;5;250m \u001b[39m\u001b[34;01mapp\u001b[39;00m\u001b[34;01m.\u001b[39;00m\u001b[34;01mcommon\u001b[39;00m\u001b[34;01m.\u001b[39;00m\u001b[34;01mentities\u001b[39;00m\u001b[38;5;250m \u001b[39m\u001b[38;5;28;01mimport\u001b[39;00m BaseEntity\n\u001b[32m---> \u001b[39m\u001b[32m13\u001b[39m \u001b[38;5;28;43;01mclass\u001b[39;49;00m\u001b[38;5;250;43m \u001b[39;49m\u001b[34;43;01mMemoryEntryEntity\u001b[39;49;00m\u001b[43m(\u001b[49m\u001b[43mBaseEntity\u001b[49m\u001b[43m)\u001b[49m\u001b[43m:\u001b[49m\n\u001b[32m     14\u001b[39m \u001b[38;5;250;43m    \u001b[39;49m\u001b[33;43;03m\"\"\"Represents Memory Entry\"\"\"\u001b[39;49;00m\n\u001b[32m     16\u001b[39m \u001b[43m    \u001b[49m\u001b[43m__tablename__\u001b[49m\u001b[43m \u001b[49m\u001b[43m=\u001b[49m\u001b[43m \u001b[49m\u001b[33;43m'\u001b[39;49m\u001b[33;43mmemory_entries\u001b[39;49m\u001b[33;43m'\u001b[39;49m\n",
      "\u001b[36mFile \u001b[39m\u001b[32m~/src/code/projects/innomightlabs/innomightlabs-api/.venv/lib/python3.13/site-packages/sqlalchemy/orm/decl_api.py:842\u001b[39m, in \u001b[36mDeclarativeBase.__init_subclass__\u001b[39m\u001b[34m(cls, **kw)\u001b[39m\n\u001b[32m    840\u001b[39m     _setup_declarative_base(\u001b[38;5;28mcls\u001b[39m)\n\u001b[32m    841\u001b[39m \u001b[38;5;28;01melse\u001b[39;00m:\n\u001b[32m--> \u001b[39m\u001b[32m842\u001b[39m     \u001b[43m_as_declarative\u001b[49m\u001b[43m(\u001b[49m\u001b[38;5;28;43mcls\u001b[39;49m\u001b[43m.\u001b[49m\u001b[43m_sa_registry\u001b[49m\u001b[43m,\u001b[49m\u001b[43m \u001b[49m\u001b[38;5;28;43mcls\u001b[39;49m\u001b[43m,\u001b[49m\u001b[43m \u001b[49m\u001b[38;5;28;43mcls\u001b[39;49m\u001b[43m.\u001b[49m\u001b[34;43m__dict__\u001b[39;49m\u001b[43m)\u001b[49m\n\u001b[32m    843\u001b[39m \u001b[38;5;28msuper\u001b[39m().__init_subclass__(**kw)\n",
      "\u001b[36mFile \u001b[39m\u001b[32m~/src/code/projects/innomightlabs/innomightlabs-api/.venv/lib/python3.13/site-packages/sqlalchemy/orm/decl_base.py:244\u001b[39m, in \u001b[36m_as_declarative\u001b[39m\u001b[34m(registry, cls, dict_)\u001b[39m\n\u001b[32m    239\u001b[39m \u001b[38;5;28;01mdef\u001b[39;00m\u001b[38;5;250m \u001b[39m\u001b[34m_as_declarative\u001b[39m(\n\u001b[32m    240\u001b[39m     registry: _RegistryType, \u001b[38;5;28mcls\u001b[39m: Type[Any], dict_: _ClassDict\n\u001b[32m    241\u001b[39m ) -> Optional[_MapperConfig]:\n\u001b[32m    242\u001b[39m     \u001b[38;5;66;03m# declarative scans the class for attributes.  no table or mapper\u001b[39;00m\n\u001b[32m    243\u001b[39m     \u001b[38;5;66;03m# args passed separately.\u001b[39;00m\n\u001b[32m--> \u001b[39m\u001b[32m244\u001b[39m     \u001b[38;5;28;01mreturn\u001b[39;00m \u001b[43m_MapperConfig\u001b[49m\u001b[43m.\u001b[49m\u001b[43msetup_mapping\u001b[49m\u001b[43m(\u001b[49m\u001b[43mregistry\u001b[49m\u001b[43m,\u001b[49m\u001b[43m \u001b[49m\u001b[38;5;28;43mcls\u001b[39;49m\u001b[43m,\u001b[49m\u001b[43m \u001b[49m\u001b[43mdict_\u001b[49m\u001b[43m,\u001b[49m\u001b[43m \u001b[49m\u001b[38;5;28;43;01mNone\u001b[39;49;00m\u001b[43m,\u001b[49m\u001b[43m \u001b[49m\u001b[43m{\u001b[49m\u001b[43m}\u001b[49m\u001b[43m)\u001b[49m\n",
      "\u001b[36mFile \u001b[39m\u001b[32m~/src/code/projects/innomightlabs/innomightlabs-api/.venv/lib/python3.13/site-packages/sqlalchemy/orm/decl_base.py:325\u001b[39m, in \u001b[36m_MapperConfig.setup_mapping\u001b[39m\u001b[34m(cls, registry, cls_, dict_, table, mapper_kw)\u001b[39m\n\u001b[32m    321\u001b[39m     \u001b[38;5;28;01mreturn\u001b[39;00m _DeferredMapperConfig(\n\u001b[32m    322\u001b[39m         registry, cls_, dict_, table, mapper_kw\n\u001b[32m    323\u001b[39m     )\n\u001b[32m    324\u001b[39m \u001b[38;5;28;01melse\u001b[39;00m:\n\u001b[32m--> \u001b[39m\u001b[32m325\u001b[39m     \u001b[38;5;28;01mreturn\u001b[39;00m \u001b[43m_ClassScanMapperConfig\u001b[49m\u001b[43m(\u001b[49m\n\u001b[32m    326\u001b[39m \u001b[43m        \u001b[49m\u001b[43mregistry\u001b[49m\u001b[43m,\u001b[49m\u001b[43m \u001b[49m\u001b[43mcls_\u001b[49m\u001b[43m,\u001b[49m\u001b[43m \u001b[49m\u001b[43mdict_\u001b[49m\u001b[43m,\u001b[49m\u001b[43m \u001b[49m\u001b[43mtable\u001b[49m\u001b[43m,\u001b[49m\u001b[43m \u001b[49m\u001b[43mmapper_kw\u001b[49m\n\u001b[32m    327\u001b[39m \u001b[43m    \u001b[49m\u001b[43m)\u001b[49m\n",
      "\u001b[36mFile \u001b[39m\u001b[32m~/src/code/projects/innomightlabs/innomightlabs-api/.venv/lib/python3.13/site-packages/sqlalchemy/orm/decl_base.py:572\u001b[39m, in \u001b[36m_ClassScanMapperConfig.__init__\u001b[39m\u001b[34m(self, registry, cls_, dict_, table, mapper_kw)\u001b[39m\n\u001b[32m    566\u001b[39m clsregistry.add_class(\n\u001b[32m    567\u001b[39m     \u001b[38;5;28mself\u001b[39m.classname, \u001b[38;5;28mself\u001b[39m.cls, registry._class_registry\n\u001b[32m    568\u001b[39m )\n\u001b[32m    570\u001b[39m \u001b[38;5;28mself\u001b[39m._setup_inheriting_mapper(mapper_kw)\n\u001b[32m--> \u001b[39m\u001b[32m572\u001b[39m \u001b[38;5;28;43mself\u001b[39;49m\u001b[43m.\u001b[49m\u001b[43m_extract_mappable_attributes\u001b[49m\u001b[43m(\u001b[49m\u001b[43m)\u001b[49m\n\u001b[32m    574\u001b[39m \u001b[38;5;28mself\u001b[39m._extract_declared_columns()\n\u001b[32m    576\u001b[39m \u001b[38;5;28mself\u001b[39m._setup_table(table)\n",
      "\u001b[36mFile \u001b[39m\u001b[32m~/src/code/projects/innomightlabs/innomightlabs-api/.venv/lib/python3.13/site-packages/sqlalchemy/orm/decl_base.py:1529\u001b[39m, in \u001b[36m_ClassScanMapperConfig._extract_mappable_attributes\u001b[39m\u001b[34m(self)\u001b[39m\n\u001b[32m   1523\u001b[39m \u001b[38;5;66;03m# we expect to see the name 'metadata' in some valid cases;\u001b[39;00m\n\u001b[32m   1524\u001b[39m \u001b[38;5;66;03m# however at this point we see it's assigned to something trying\u001b[39;00m\n\u001b[32m   1525\u001b[39m \u001b[38;5;66;03m# to be mapped, so raise for that.\u001b[39;00m\n\u001b[32m   1526\u001b[39m \u001b[38;5;66;03m# TODO: should \"registry\" here be also?   might be too late\u001b[39;00m\n\u001b[32m   1527\u001b[39m \u001b[38;5;66;03m# to change that now (2.0 betas)\u001b[39;00m\n\u001b[32m   1528\u001b[39m \u001b[38;5;28;01melif\u001b[39;00m k \u001b[38;5;129;01min\u001b[39;00m (\u001b[33m\"\u001b[39m\u001b[33mmetadata\u001b[39m\u001b[33m\"\u001b[39m,):\n\u001b[32m-> \u001b[39m\u001b[32m1529\u001b[39m     \u001b[38;5;28;01mraise\u001b[39;00m exc.InvalidRequestError(\n\u001b[32m   1530\u001b[39m         \u001b[33mf\u001b[39m\u001b[33m\"\u001b[39m\u001b[33mAttribute name \u001b[39m\u001b[33m'\u001b[39m\u001b[38;5;132;01m{\u001b[39;00mk\u001b[38;5;132;01m}\u001b[39;00m\u001b[33m'\u001b[39m\u001b[33m is reserved when using the \u001b[39m\u001b[33m\"\u001b[39m\n\u001b[32m   1531\u001b[39m         \u001b[33m\"\u001b[39m\u001b[33mDeclarative API.\u001b[39m\u001b[33m\"\u001b[39m\n\u001b[32m   1532\u001b[39m     )\n\u001b[32m   1533\u001b[39m \u001b[38;5;28;01melif\u001b[39;00m \u001b[38;5;28misinstance\u001b[39m(value, Column):\n\u001b[32m   1534\u001b[39m     _undefer_column_name(\n\u001b[32m   1535\u001b[39m         k, \u001b[38;5;28mself\u001b[39m.column_copies.get(value, value)  \u001b[38;5;66;03m# type: ignore\u001b[39;00m\n\u001b[32m   1536\u001b[39m     )\n",
      "\u001b[31mInvalidRequestError\u001b[39m: Attribute name 'metadata' is reserved when using the Declarative API."
     ]
    }
   ],
   "source": [
    "from app.common.vector_embedders import LangChainTitanEmbedder\n",
    "from asyncio import to_thread\n",
    "\n",
    "embedder = LangChainTitanEmbedder()\n",
    "result = embedder.embed_single_text(\"This is great\")\n",
    "\n",
    "result = await to_thread(embedder.embed_single_text, \"This is funny\")\n",
    "print(result)"
   ]
  },
  {
   "cell_type": "code",
   "execution_count": 27,
   "id": "a5c0aa84",
   "metadata": {},
   "outputs": [
    {
     "name": "stdout",
     "output_type": "stream",
     "text": [
      "{\"name\": \"archival_memory_search\", \"description\": \"Retrieve information from your extensive archival memory into your core working memory.\", \"params\": {\"user_id\": {\"format\": \"uuid\", \"title\": \"User Id\", \"type\": \"string\"}, \"query\": {\"title\": \"Query\", \"type\": \"string\"}}}\n",
      "archival_memory_search\n",
      "{'user_id': {'format': 'uuid', 'title': 'User Id', 'type': 'string'}, 'query': {'title': 'Query', 'type': 'string'}}\n",
      "Retrieve information from your extensive archival memory into your core working memory.\n"
     ]
    }
   ],
   "source": [
    "import json\n",
    "from uuid import UUID\n",
    "from pydantic import BaseModel\n",
    "from langchain.tools import tool\n",
    "\n",
    "from app.chatbot.chatbot_models import Action\n",
    "\n",
    "\n",
    "class ArchivalMemorySearchParams(BaseModel):\n",
    "    \"\"\" \"Retrieve information from your extensive archival memory into your core working memory.\"\"\"\n",
    "\n",
    "    user_id: UUID\n",
    "    query: str\n",
    "\n",
    "\n",
    "@tool(\n",
    "    \"archival_memory_search\",\n",
    "    description=\"Retrieve information from your extensive archival memory into your core working memory.\",\n",
    "    args_schema=ArchivalMemorySearchParams,\n",
    "    infer_schema=False,\n",
    "    return_direct=True,\n",
    ")\n",
    "def archival_memory_search(input: ArchivalMemorySearchParams):\n",
    "    return \"\"\n",
    "\n",
    "\n",
    "tool = archival_memory_search\n",
    "print(json.dumps(Action(name=tool.name, description=tool.description, params=tool.args).model_dump()))\n",
    "print(archival_memory_search.name)\n",
    "print(archival_memory_search.args)\n",
    "print(archival_memory_search.description)"
   ]
  }
 ],
 "metadata": {
  "kernelspec": {
   "display_name": "innomightlabs-api",
   "language": "python",
   "name": "python3"
  },
  "language_info": {
   "codemirror_mode": {
    "name": "ipython",
    "version": 3
   },
   "file_extension": ".py",
   "mimetype": "text/x-python",
   "name": "python",
   "nbconvert_exporter": "python",
   "pygments_lexer": "ipython3",
   "version": "3.13.3"
  }
 },
 "nbformat": 4,
 "nbformat_minor": 5
}
