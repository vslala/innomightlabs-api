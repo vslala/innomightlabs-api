{
 "cells": [
  {
   "cell_type": "code",
   "execution_count": 2,
   "id": "6bbb8fc8",
   "metadata": {},
   "outputs": [
    {
     "name": "stdout",
     "output_type": "stream",
     "text": [
      "Haiku streaming response:\n",
      "Here's a short joke for you:\n",
      "\n",
      "Why don't scientists trust atoms? Because they make up everything!\n"
     ]
    }
   ],
   "source": [
    "import sys\n",
    "\n",
    "sys.path.append(\"../../\")\n",
    "\n",
    "from abc import ABC, abstractmethod\n",
    "from typing import Any, AsyncGenerator, Union\n",
    "import os\n",
    "from langchain_aws import ChatBedrock\n",
    "\n",
    "\n",
    "class BaseChatbot(ABC):\n",
    "    @abstractmethod\n",
    "    def get_text_response(self, prompt: str) -> str:\n",
    "        pass\n",
    "\n",
    "    @abstractmethod\n",
    "    async def get_text_response_async(self, prompt: str) -> Union[str, list[Union[str, dict[Any, Any]]]]:\n",
    "        pass\n",
    "\n",
    "    @abstractmethod\n",
    "    async def stream_response(self, prompt: str) -> AsyncGenerator[Union[str, list[Union[str, dict[Any, Any]]]], None]:\n",
    "        if False:\n",
    "            yield\n",
    "\n",
    "\n",
    "class ClaudeHaikuChatbot(BaseChatbot):\n",
    "    def __init__(self, temperature: float = 0):\n",
    "        self.llm = ChatBedrock(\n",
    "            model=\"anthropic.claude-3-haiku-20240307-v1:0\",\n",
    "            model_kwargs={\"temperature\": temperature},\n",
    "            credentials_profile_name=os.getenv(\"AWS_PROFILE\"),\n",
    "            region=os.getenv(\"AWS_REGION\", \"us-east-1\"),\n",
    "        )\n",
    "\n",
    "    def get_text_response(self, prompt: str) -> str:\n",
    "        response = self.llm.invoke(prompt)\n",
    "        return response.content\n",
    "\n",
    "    async def get_text_response_async(self, prompt: str) -> Union[str, list[Union[str, dict[Any, Any]]]]:\n",
    "        response = await self.llm.ainvoke(prompt)\n",
    "        return response.content\n",
    "\n",
    "    async def stream_response(self, prompt: str) -> AsyncGenerator[Union[str, list[Union[str, dict[Any, Any]]]], None]:\n",
    "        async for chunk in self.llm.astream(prompt):\n",
    "            yield chunk.content\n",
    "\n",
    "\n",
    "# Test Haiku\n",
    "haiku_chatbot = ClaudeHaikuChatbot(temperature=0.7)\n",
    "print(\"Haiku streaming response:\")\n",
    "async for chunk in haiku_chatbot.stream_response(\"Tell me a short joke\"):\n",
    "    print(chunk, end=\"\")\n",
    "print()"
   ]
  },
  {
   "cell_type": "code",
   "execution_count": null,
   "id": "claude-sonnet",
   "metadata": {},
   "outputs": [],
   "source": [
    "class ClaudeSonnetChatbot(BaseChatbot):\n",
    "    def __init__(self, temperature: float = 0):\n",
    "        self.llm = ChatBedrock(\n",
    "            model=\"anthropic.claude-3-sonnet-20240229-v1:0\",\n",
    "            model_kwargs={\"temperature\": temperature},\n",
    "            credentials_profile_name=os.getenv(\"AWS_PROFILE\"),\n",
    "            region=os.getenv(\"AWS_REGION\", \"us-east-1\"),\n",
    "        )\n",
    "\n",
    "    def get_text_response(self, prompt: str) -> str:\n",
    "        response = self.llm.invoke(prompt)\n",
    "        return response.text()\n",
    "\n",
    "    async def get_text_response_async(self, prompt: str) -> Union[str, list[Union[str, dict[Any, Any]]]]:\n",
    "        response = await self.llm.ainvoke(prompt)\n",
    "        return response.content\n",
    "\n",
    "    async def stream_response(self, prompt: str) -> AsyncGenerator[Union[str, list[Union[str, dict[Any, Any]]]], None]:\n",
    "        async for chunk in self.llm.astream(prompt):\n",
    "            yield chunk.content\n",
    "\n",
    "\n",
    "# Test Claude 3 Sonnet (supports on-demand throughput)\n",
    "sonnet_chatbot = ClaudeSonnetChatbot(temperature=0.7)\n",
    "text_response = sonnet_chatbot.get_text_response(\"What is the meaning of life?\")\n",
    "print(\"Claude 3 Sonnet text response:\", text_response)\n",
    "\n",
    "print(\"Claude 3 Sonnet streaming response:\")\n",
    "async for chunk in sonnet_chatbot.stream_response(\"Explain quantum computing in simple terms\"):\n",
    "    print(chunk, end=\"\")\n",
    "print()"
   ]
  }
 ],
 "metadata": {
  "kernelspec": {
   "display_name": ".venv",
   "language": "python",
   "name": "python3"
  },
  "language_info": {
   "codemirror_mode": {
    "name": "ipython",
    "version": 3
   },
   "file_extension": ".py",
   "mimetype": "text/x-python",
   "name": "python",
   "nbconvert_exporter": "python",
   "pygments_lexer": "ipython3",
   "version": "3.13.3"
  }
 },
 "nbformat": 4,
 "nbformat_minor": 5
}
